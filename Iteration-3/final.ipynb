{
 "cells": [
  {
   "cell_type": "code",
   "execution_count": 63,
   "source": [
    "import pandas as pd"
   ],
   "outputs": [],
   "metadata": {}
  },
  {
   "cell_type": "code",
   "execution_count": 64,
   "source": [
    "df = pd.read_csv('Suicide_Detection.csv', encoding = \"utf-8\")"
   ],
   "outputs": [],
   "metadata": {}
  },
  {
   "cell_type": "code",
   "execution_count": 65,
   "source": [
    "df['class'] = df['class'].replace(\"suicide\", 1)\r\n",
    "df['class'] = df['class'].replace('non-suicide', 0)\r\n",
    "\r\n",
    "df"
   ],
   "outputs": [
    {
     "output_type": "execute_result",
     "data": {
      "text/html": [
       "<div>\n",
       "<style scoped>\n",
       "    .dataframe tbody tr th:only-of-type {\n",
       "        vertical-align: middle;\n",
       "    }\n",
       "\n",
       "    .dataframe tbody tr th {\n",
       "        vertical-align: top;\n",
       "    }\n",
       "\n",
       "    .dataframe thead th {\n",
       "        text-align: right;\n",
       "    }\n",
       "</style>\n",
       "<table border=\"1\" class=\"dataframe\">\n",
       "  <thead>\n",
       "    <tr style=\"text-align: right;\">\n",
       "      <th></th>\n",
       "      <th>Unnamed: 0</th>\n",
       "      <th>text</th>\n",
       "      <th>class</th>\n",
       "    </tr>\n",
       "  </thead>\n",
       "  <tbody>\n",
       "    <tr>\n",
       "      <th>0</th>\n",
       "      <td>2</td>\n",
       "      <td>Ex Wife Threatening SuicideRecently I left my ...</td>\n",
       "      <td>1</td>\n",
       "    </tr>\n",
       "    <tr>\n",
       "      <th>1</th>\n",
       "      <td>3</td>\n",
       "      <td>Am I weird I don't get affected by compliments...</td>\n",
       "      <td>0</td>\n",
       "    </tr>\n",
       "    <tr>\n",
       "      <th>2</th>\n",
       "      <td>4</td>\n",
       "      <td>Finally 2020 is almost over... So I can never ...</td>\n",
       "      <td>0</td>\n",
       "    </tr>\n",
       "    <tr>\n",
       "      <th>3</th>\n",
       "      <td>8</td>\n",
       "      <td>i need helpjust help me im crying so hard</td>\n",
       "      <td>1</td>\n",
       "    </tr>\n",
       "    <tr>\n",
       "      <th>4</th>\n",
       "      <td>9</td>\n",
       "      <td>I’m so lostHello, my name is Adam (16) and I’v...</td>\n",
       "      <td>1</td>\n",
       "    </tr>\n",
       "    <tr>\n",
       "      <th>...</th>\n",
       "      <td>...</td>\n",
       "      <td>...</td>\n",
       "      <td>...</td>\n",
       "    </tr>\n",
       "    <tr>\n",
       "      <th>232069</th>\n",
       "      <td>348103</td>\n",
       "      <td>If you don't like rock then your not going to ...</td>\n",
       "      <td>0</td>\n",
       "    </tr>\n",
       "    <tr>\n",
       "      <th>232070</th>\n",
       "      <td>348106</td>\n",
       "      <td>You how you can tell i have so many friends an...</td>\n",
       "      <td>0</td>\n",
       "    </tr>\n",
       "    <tr>\n",
       "      <th>232071</th>\n",
       "      <td>348107</td>\n",
       "      <td>pee probably tastes like salty tea😏💦‼️ can som...</td>\n",
       "      <td>0</td>\n",
       "    </tr>\n",
       "    <tr>\n",
       "      <th>232072</th>\n",
       "      <td>348108</td>\n",
       "      <td>The usual stuff you find hereI'm not posting t...</td>\n",
       "      <td>1</td>\n",
       "    </tr>\n",
       "    <tr>\n",
       "      <th>232073</th>\n",
       "      <td>348110</td>\n",
       "      <td>I still haven't beaten the first boss in Hollo...</td>\n",
       "      <td>0</td>\n",
       "    </tr>\n",
       "  </tbody>\n",
       "</table>\n",
       "<p>232074 rows × 3 columns</p>\n",
       "</div>"
      ],
      "text/plain": [
       "        Unnamed: 0                                               text  class\n",
       "0                2  Ex Wife Threatening SuicideRecently I left my ...      1\n",
       "1                3  Am I weird I don't get affected by compliments...      0\n",
       "2                4  Finally 2020 is almost over... So I can never ...      0\n",
       "3                8          i need helpjust help me im crying so hard      1\n",
       "4                9  I’m so lostHello, my name is Adam (16) and I’v...      1\n",
       "...            ...                                                ...    ...\n",
       "232069      348103  If you don't like rock then your not going to ...      0\n",
       "232070      348106  You how you can tell i have so many friends an...      0\n",
       "232071      348107  pee probably tastes like salty tea😏💦‼️ can som...      0\n",
       "232072      348108  The usual stuff you find hereI'm not posting t...      1\n",
       "232073      348110  I still haven't beaten the first boss in Hollo...      0\n",
       "\n",
       "[232074 rows x 3 columns]"
      ]
     },
     "metadata": {},
     "execution_count": 65
    }
   ],
   "metadata": {}
  },
  {
   "cell_type": "code",
   "execution_count": 66,
   "source": [
    "# Get rid of first column (unnecessary)\r\n",
    "df = df.iloc[:,[1,2]]"
   ],
   "outputs": [],
   "metadata": {}
  },
  {
   "cell_type": "code",
   "execution_count": 67,
   "source": [
    "# Read depression dataset\r\n",
    "df_dep = pd.read_csv('depressiontrain.csv', encoding=\"utf-8\", names=[\"text\", \"class\"])"
   ],
   "outputs": [],
   "metadata": {}
  },
  {
   "cell_type": "code",
   "execution_count": 68,
   "source": [
    "# get rid of first row\r\n",
    "df_dep = df_dep.iloc[1:, :]\r\n",
    "df_dep"
   ],
   "outputs": [
    {
     "output_type": "execute_result",
     "data": {
      "text/html": [
       "<div>\n",
       "<style scoped>\n",
       "    .dataframe tbody tr th:only-of-type {\n",
       "        vertical-align: middle;\n",
       "    }\n",
       "\n",
       "    .dataframe tbody tr th {\n",
       "        vertical-align: top;\n",
       "    }\n",
       "\n",
       "    .dataframe thead th {\n",
       "        text-align: right;\n",
       "    }\n",
       "</style>\n",
       "<table border=\"1\" class=\"dataframe\">\n",
       "  <thead>\n",
       "    <tr style=\"text-align: right;\">\n",
       "      <th></th>\n",
       "      <th>text</th>\n",
       "      <th>class</th>\n",
       "    </tr>\n",
       "  </thead>\n",
       "  <tbody>\n",
       "    <tr>\n",
       "      <th>1</th>\n",
       "      <td>damn taking this personality quiz and realizin...</td>\n",
       "      <td>1</td>\n",
       "    </tr>\n",
       "    <tr>\n",
       "      <th>2</th>\n",
       "      <td>remember experiencing as kid what now realize ...</td>\n",
       "      <td>1</td>\n",
       "    </tr>\n",
       "    <tr>\n",
       "      <th>3</th>\n",
       "      <td>damn louis really did pull me out of my depres...</td>\n",
       "      <td>1</td>\n",
       "    </tr>\n",
       "    <tr>\n",
       "      <th>4</th>\n",
       "      <td>my depression is really kicking my ass right n...</td>\n",
       "      <td>1</td>\n",
       "    </tr>\n",
       "    <tr>\n",
       "      <th>5</th>\n",
       "      <td>feel like my night is going bad family calling...</td>\n",
       "      <td>1</td>\n",
       "    </tr>\n",
       "    <tr>\n",
       "      <th>...</th>\n",
       "      <td>...</td>\n",
       "      <td>...</td>\n",
       "    </tr>\n",
       "    <tr>\n",
       "      <th>30996</th>\n",
       "      <td>dnc puppet is claiming she wants to put god am...</td>\n",
       "      <td>0</td>\n",
       "    </tr>\n",
       "    <tr>\n",
       "      <th>30997</th>\n",
       "      <td>as soon as my election job is over ll be back ...</td>\n",
       "      <td>0</td>\n",
       "    </tr>\n",
       "    <tr>\n",
       "      <th>30998</th>\n",
       "      <td>the moral of the story is you gotta get it fir...</td>\n",
       "      <td>0</td>\n",
       "    </tr>\n",
       "    <tr>\n",
       "      <th>30999</th>\n",
       "      <td>got through my hardest week this semester and ...</td>\n",
       "      <td>0</td>\n",
       "    </tr>\n",
       "    <tr>\n",
       "      <th>31000</th>\n",
       "      <td>lately ve been trying to make an effort to tak...</td>\n",
       "      <td>0</td>\n",
       "    </tr>\n",
       "  </tbody>\n",
       "</table>\n",
       "<p>31000 rows × 2 columns</p>\n",
       "</div>"
      ],
      "text/plain": [
       "                                                    text class\n",
       "1      damn taking this personality quiz and realizin...     1\n",
       "2      remember experiencing as kid what now realize ...     1\n",
       "3      damn louis really did pull me out of my depres...     1\n",
       "4      my depression is really kicking my ass right n...     1\n",
       "5      feel like my night is going bad family calling...     1\n",
       "...                                                  ...   ...\n",
       "30996  dnc puppet is claiming she wants to put god am...     0\n",
       "30997  as soon as my election job is over ll be back ...     0\n",
       "30998  the moral of the story is you gotta get it fir...     0\n",
       "30999  got through my hardest week this semester and ...     0\n",
       "31000  lately ve been trying to make an effort to tak...     0\n",
       "\n",
       "[31000 rows x 2 columns]"
      ]
     },
     "metadata": {},
     "execution_count": 68
    }
   ],
   "metadata": {}
  },
  {
   "cell_type": "code",
   "execution_count": 69,
   "source": [
    "df_dep['class'] = df_dep['class'].replace(\"1\", 1)\r\n",
    "df_dep['class'] = df_dep['class'].replace(\"0\", 0)"
   ],
   "outputs": [],
   "metadata": {}
  },
  {
   "cell_type": "code",
   "execution_count": 70,
   "source": [
    "# Read depresion dataset\r\n",
    "df_dep_1 = pd.read_csv('depressiontest.csv', encoding=\"utf-8\", names=[\"text\", \"class\"])\r\n",
    "df_dep_1 = df_dep_1.iloc[1:, :]\r\n",
    "df_dep_1"
   ],
   "outputs": [
    {
     "output_type": "execute_result",
     "data": {
      "text/html": [
       "<div>\n",
       "<style scoped>\n",
       "    .dataframe tbody tr th:only-of-type {\n",
       "        vertical-align: middle;\n",
       "    }\n",
       "\n",
       "    .dataframe tbody tr th {\n",
       "        vertical-align: top;\n",
       "    }\n",
       "\n",
       "    .dataframe thead th {\n",
       "        text-align: right;\n",
       "    }\n",
       "</style>\n",
       "<table border=\"1\" class=\"dataframe\">\n",
       "  <thead>\n",
       "    <tr style=\"text-align: right;\">\n",
       "      <th></th>\n",
       "      <th>text</th>\n",
       "      <th>class</th>\n",
       "    </tr>\n",
       "  </thead>\n",
       "  <tbody>\n",
       "    <tr>\n",
       "      <th>1</th>\n",
       "      <td>just know what ur going through battle depress...</td>\n",
       "      <td>1</td>\n",
       "    </tr>\n",
       "    <tr>\n",
       "      <th>2</th>\n",
       "      <td>wow depression and anxiety really tryna come f...</td>\n",
       "      <td>1</td>\n",
       "    </tr>\n",
       "    <tr>\n",
       "      <th>3</th>\n",
       "      <td>you aint making joke about someones depression...</td>\n",
       "      <td>1</td>\n",
       "    </tr>\n",
       "    <tr>\n",
       "      <th>4</th>\n",
       "      <td>why do insta meme pages post videos of naked w...</td>\n",
       "      <td>1</td>\n",
       "    </tr>\n",
       "    <tr>\n",
       "      <th>5</th>\n",
       "      <td>cant handle school anymore but hate in person ...</td>\n",
       "      <td>1</td>\n",
       "    </tr>\n",
       "    <tr>\n",
       "      <th>...</th>\n",
       "      <td>...</td>\n",
       "      <td>...</td>\n",
       "    </tr>\n",
       "    <tr>\n",
       "      <th>30996</th>\n",
       "      <td>the only way they can attract good dicks is to...</td>\n",
       "      <td>0</td>\n",
       "    </tr>\n",
       "    <tr>\n",
       "      <th>30997</th>\n",
       "      <td>gotta say like you think we have the same atti...</td>\n",
       "      <td>0</td>\n",
       "    </tr>\n",
       "    <tr>\n",
       "      <th>30998</th>\n",
       "      <td>many product companies goes from right to left...</td>\n",
       "      <td>0</td>\n",
       "    </tr>\n",
       "    <tr>\n",
       "      <th>30999</th>\n",
       "      <td>just casually playing animal crossing while wa...</td>\n",
       "      <td>0</td>\n",
       "    </tr>\n",
       "    <tr>\n",
       "      <th>31000</th>\n",
       "      <td>in kushner speak look wasn born with silver sp...</td>\n",
       "      <td>0</td>\n",
       "    </tr>\n",
       "  </tbody>\n",
       "</table>\n",
       "<p>31000 rows × 2 columns</p>\n",
       "</div>"
      ],
      "text/plain": [
       "                                                    text class\n",
       "1      just know what ur going through battle depress...     1\n",
       "2      wow depression and anxiety really tryna come f...     1\n",
       "3      you aint making joke about someones depression...     1\n",
       "4      why do insta meme pages post videos of naked w...     1\n",
       "5      cant handle school anymore but hate in person ...     1\n",
       "...                                                  ...   ...\n",
       "30996  the only way they can attract good dicks is to...     0\n",
       "30997  gotta say like you think we have the same atti...     0\n",
       "30998  many product companies goes from right to left...     0\n",
       "30999  just casually playing animal crossing while wa...     0\n",
       "31000  in kushner speak look wasn born with silver sp...     0\n",
       "\n",
       "[31000 rows x 2 columns]"
      ]
     },
     "metadata": {},
     "execution_count": 70
    }
   ],
   "metadata": {}
  },
  {
   "cell_type": "code",
   "execution_count": 71,
   "source": [
    "df_dep_1['class'] = df_dep_1['class'].replace(\"1\", 1)\r\n",
    "df_dep_1['class'] = df_dep_1['class'].replace(\"0\", 0)"
   ],
   "outputs": [],
   "metadata": {}
  },
  {
   "cell_type": "code",
   "execution_count": null,
   "source": [],
   "outputs": [],
   "metadata": {}
  },
  {
   "cell_type": "markdown",
   "source": [
    "# Reading more depression dataset"
   ],
   "metadata": {}
  },
  {
   "cell_type": "code",
   "execution_count": 72,
   "source": [
    "df_dep_2 = pd.read_csv('reddit_depression_suicidewatch.csv', encoding=\"utf-8\", names=[\"text\", 'class'])\r\n",
    "df_dep_2 = df_dep_2.iloc[1:,:]\r\n",
    "df_dep_2['class'] = 1\r\n",
    "df_dep_2"
   ],
   "outputs": [
    {
     "output_type": "execute_result",
     "data": {
      "text/html": [
       "<div>\n",
       "<style scoped>\n",
       "    .dataframe tbody tr th:only-of-type {\n",
       "        vertical-align: middle;\n",
       "    }\n",
       "\n",
       "    .dataframe tbody tr th {\n",
       "        vertical-align: top;\n",
       "    }\n",
       "\n",
       "    .dataframe thead th {\n",
       "        text-align: right;\n",
       "    }\n",
       "</style>\n",
       "<table border=\"1\" class=\"dataframe\">\n",
       "  <thead>\n",
       "    <tr style=\"text-align: right;\">\n",
       "      <th></th>\n",
       "      <th>text</th>\n",
       "      <th>class</th>\n",
       "    </tr>\n",
       "  </thead>\n",
       "  <tbody>\n",
       "    <tr>\n",
       "      <th>1</th>\n",
       "      <td>I recently went through a breakup and she said...</td>\n",
       "      <td>1</td>\n",
       "    </tr>\n",
       "    <tr>\n",
       "      <th>2</th>\n",
       "      <td>I do not know how to navigate these feelings, ...</td>\n",
       "      <td>1</td>\n",
       "    </tr>\n",
       "    <tr>\n",
       "      <th>3</th>\n",
       "      <td>So I have been with my bf for 5 months , and h...</td>\n",
       "      <td>1</td>\n",
       "    </tr>\n",
       "    <tr>\n",
       "      <th>4</th>\n",
       "      <td>I am so exhausted of this. Just when I think I...</td>\n",
       "      <td>1</td>\n",
       "    </tr>\n",
       "    <tr>\n",
       "      <th>5</th>\n",
       "      <td>I have been severly bullied since i was 5 till...</td>\n",
       "      <td>1</td>\n",
       "    </tr>\n",
       "    <tr>\n",
       "      <th>...</th>\n",
       "      <td>...</td>\n",
       "      <td>...</td>\n",
       "    </tr>\n",
       "    <tr>\n",
       "      <th>20359</th>\n",
       "      <td>I took 50mg of seroquel a few hours after I dr...</td>\n",
       "      <td>1</td>\n",
       "    </tr>\n",
       "    <tr>\n",
       "      <th>20360</th>\n",
       "      <td>that is what has happened to me last week. And...</td>\n",
       "      <td>1</td>\n",
       "    </tr>\n",
       "    <tr>\n",
       "      <th>20361</th>\n",
       "      <td>Ever just feel alone in a house full of people...</td>\n",
       "      <td>1</td>\n",
       "    </tr>\n",
       "    <tr>\n",
       "      <th>20362</th>\n",
       "      <td>Politicians. Neighbors. Corporations. Society....</td>\n",
       "      <td>1</td>\n",
       "    </tr>\n",
       "    <tr>\n",
       "      <th>20363</th>\n",
       "      <td>I feel like I am just existing, but for what. ...</td>\n",
       "      <td>1</td>\n",
       "    </tr>\n",
       "  </tbody>\n",
       "</table>\n",
       "<p>20363 rows × 2 columns</p>\n",
       "</div>"
      ],
      "text/plain": [
       "                                                    text  class\n",
       "1      I recently went through a breakup and she said...      1\n",
       "2      I do not know how to navigate these feelings, ...      1\n",
       "3      So I have been with my bf for 5 months , and h...      1\n",
       "4      I am so exhausted of this. Just when I think I...      1\n",
       "5      I have been severly bullied since i was 5 till...      1\n",
       "...                                                  ...    ...\n",
       "20359  I took 50mg of seroquel a few hours after I dr...      1\n",
       "20360  that is what has happened to me last week. And...      1\n",
       "20361  Ever just feel alone in a house full of people...      1\n",
       "20362  Politicians. Neighbors. Corporations. Society....      1\n",
       "20363  I feel like I am just existing, but for what. ...      1\n",
       "\n",
       "[20363 rows x 2 columns]"
      ]
     },
     "metadata": {},
     "execution_count": 72
    }
   ],
   "metadata": {}
  },
  {
   "cell_type": "markdown",
   "source": [
    "# Reading short jokes data"
   ],
   "metadata": {}
  },
  {
   "cell_type": "code",
   "execution_count": 73,
   "source": [
    "# df_joke = pd.read_csv('shortjokes.csv', encoding=\"utf-8\", names=[\"id\", 'text'])\r\n",
    "# df_joke = df_joke.iloc[1:,:]\r\n",
    "# df_joke['class'] = 0\r\n",
    "# df_joke = df_joke.iloc[:,[1,2]]\r\n",
    "# df_joke"
   ],
   "outputs": [],
   "metadata": {}
  },
  {
   "cell_type": "code",
   "execution_count": null,
   "source": [],
   "outputs": [],
   "metadata": {}
  },
  {
   "cell_type": "markdown",
   "source": [
    "# Reading movie plots"
   ],
   "metadata": {}
  },
  {
   "cell_type": "code",
   "execution_count": 74,
   "source": [
    "# df_movie = pd.read_csv('wiki_movie_plots_deduped.csv', encoding=\"utf-8\")\r\n",
    "# df_movie = df_movie.iloc[1:,:]\r\n",
    "# df_movie = df_movie.iloc[:,[6,7]]\r\n",
    "# df_movie['class'] = 0\r\n",
    "# df_movie = df_movie.iloc[:,[1,2]]\r\n",
    "# df_movie = df_movie.rename(columns={'Plot':\"text\"})\r\n",
    "\r\n"
   ],
   "outputs": [],
   "metadata": {}
  },
  {
   "cell_type": "code",
   "execution_count": null,
   "source": [],
   "outputs": [],
   "metadata": {}
  },
  {
   "cell_type": "code",
   "execution_count": null,
   "source": [],
   "outputs": [],
   "metadata": {}
  },
  {
   "cell_type": "markdown",
   "source": [
    "# Reading twitter data"
   ],
   "metadata": {}
  },
  {
   "cell_type": "code",
   "execution_count": 75,
   "source": [
    "df_tweet = pd.read_csv('Twitter_Data.csv', encoding=\"utf-8\", names=[\"text\", 'class'])\r\n",
    "df_tweet = df_tweet.iloc[1:,:]\r\n",
    "df_tweet = df_tweet.dropna()\r\n",
    "df_tweet['class'] = df_tweet['class'].replace('1', 0)\r\n",
    "df_tweet['class'] = df_tweet['class'].replace('0', 0)\r\n",
    "df_tweet['class'] = df_tweet['class'].replace('-1', 1)\r\n",
    "df_tweet['class'].value_counts()"
   ],
   "outputs": [
    {
     "output_type": "execute_result",
     "data": {
      "text/plain": [
       "0    127460\n",
       "1     35509\n",
       "Name: class, dtype: int64"
      ]
     },
     "metadata": {},
     "execution_count": 75
    }
   ],
   "metadata": {}
  },
  {
   "cell_type": "code",
   "execution_count": 76,
   "source": [
    "df = pd.concat([df, df_dep, df_dep_1, df_dep_2, df_tweet])"
   ],
   "outputs": [],
   "metadata": {}
  },
  {
   "cell_type": "code",
   "execution_count": 77,
   "source": [
    "df['class'].value_counts()"
   ],
   "outputs": [
    {
     "output_type": "execute_result",
     "data": {
      "text/plain": [
       "0    273497\n",
       "1    203909\n",
       "Name: class, dtype: int64"
      ]
     },
     "metadata": {},
     "execution_count": 77
    }
   ],
   "metadata": {}
  },
  {
   "cell_type": "code",
   "execution_count": 78,
   "source": [
    "df"
   ],
   "outputs": [
    {
     "output_type": "execute_result",
     "data": {
      "text/html": [
       "<div>\n",
       "<style scoped>\n",
       "    .dataframe tbody tr th:only-of-type {\n",
       "        vertical-align: middle;\n",
       "    }\n",
       "\n",
       "    .dataframe tbody tr th {\n",
       "        vertical-align: top;\n",
       "    }\n",
       "\n",
       "    .dataframe thead th {\n",
       "        text-align: right;\n",
       "    }\n",
       "</style>\n",
       "<table border=\"1\" class=\"dataframe\">\n",
       "  <thead>\n",
       "    <tr style=\"text-align: right;\">\n",
       "      <th></th>\n",
       "      <th>text</th>\n",
       "      <th>class</th>\n",
       "    </tr>\n",
       "  </thead>\n",
       "  <tbody>\n",
       "    <tr>\n",
       "      <th>0</th>\n",
       "      <td>Ex Wife Threatening SuicideRecently I left my ...</td>\n",
       "      <td>1</td>\n",
       "    </tr>\n",
       "    <tr>\n",
       "      <th>1</th>\n",
       "      <td>Am I weird I don't get affected by compliments...</td>\n",
       "      <td>0</td>\n",
       "    </tr>\n",
       "    <tr>\n",
       "      <th>2</th>\n",
       "      <td>Finally 2020 is almost over... So I can never ...</td>\n",
       "      <td>0</td>\n",
       "    </tr>\n",
       "    <tr>\n",
       "      <th>3</th>\n",
       "      <td>i need helpjust help me im crying so hard</td>\n",
       "      <td>1</td>\n",
       "    </tr>\n",
       "    <tr>\n",
       "      <th>4</th>\n",
       "      <td>I’m so lostHello, my name is Adam (16) and I’v...</td>\n",
       "      <td>1</td>\n",
       "    </tr>\n",
       "    <tr>\n",
       "      <th>...</th>\n",
       "      <td>...</td>\n",
       "      <td>...</td>\n",
       "    </tr>\n",
       "    <tr>\n",
       "      <th>162976</th>\n",
       "      <td>why these 456 crores paid neerav modi not reco...</td>\n",
       "      <td>1</td>\n",
       "    </tr>\n",
       "    <tr>\n",
       "      <th>162977</th>\n",
       "      <td>dear rss terrorist payal gawar what about modi...</td>\n",
       "      <td>1</td>\n",
       "    </tr>\n",
       "    <tr>\n",
       "      <th>162978</th>\n",
       "      <td>did you cover her interaction forum where she ...</td>\n",
       "      <td>0</td>\n",
       "    </tr>\n",
       "    <tr>\n",
       "      <th>162979</th>\n",
       "      <td>there big project came into india modi dream p...</td>\n",
       "      <td>0</td>\n",
       "    </tr>\n",
       "    <tr>\n",
       "      <th>162980</th>\n",
       "      <td>have you ever listen about like gurukul where ...</td>\n",
       "      <td>0</td>\n",
       "    </tr>\n",
       "  </tbody>\n",
       "</table>\n",
       "<p>477406 rows × 2 columns</p>\n",
       "</div>"
      ],
      "text/plain": [
       "                                                     text  class\n",
       "0       Ex Wife Threatening SuicideRecently I left my ...      1\n",
       "1       Am I weird I don't get affected by compliments...      0\n",
       "2       Finally 2020 is almost over... So I can never ...      0\n",
       "3               i need helpjust help me im crying so hard      1\n",
       "4       I’m so lostHello, my name is Adam (16) and I’v...      1\n",
       "...                                                   ...    ...\n",
       "162976  why these 456 crores paid neerav modi not reco...      1\n",
       "162977  dear rss terrorist payal gawar what about modi...      1\n",
       "162978  did you cover her interaction forum where she ...      0\n",
       "162979  there big project came into india modi dream p...      0\n",
       "162980  have you ever listen about like gurukul where ...      0\n",
       "\n",
       "[477406 rows x 2 columns]"
      ]
     },
     "metadata": {},
     "execution_count": 78
    }
   ],
   "metadata": {}
  },
  {
   "cell_type": "code",
   "execution_count": 79,
   "source": [
    "import re\r\n",
    "from string import punctuation\r\n",
    "import nltk\r\n",
    "from nltk.tokenize.treebank import TreebankWordDetokenizer\r\n",
    "import unidecode\r\n"
   ],
   "outputs": [],
   "metadata": {}
  },
  {
   "cell_type": "code",
   "execution_count": 80,
   "source": [
    "def depure_data(data):\r\n",
    "\r\n",
    "    #Removing emojis, symbols, maps, flags etc\r\n",
    "    emoji_pattern = re.compile(\"[\"\r\n",
    "        u\"\\U0001F600-\\U0001F64F\"  # emoticons\r\n",
    "        u\"\\U0001F300-\\U0001F5FF\"  # symbols & pictographs\r\n",
    "        u\"\\U0001F680-\\U0001F6FF\"  # transport & map symbols\r\n",
    "        u\"\\U0001F1E0-\\U0001F1FF\"  # flags (iOS)\r\n",
    "        u\"\\U00002500-\\U00002BEF\"  # chinese char\r\n",
    "        u\"\\U00002702-\\U000027B0\"\r\n",
    "        u\"\\U00002702-\\U000027B0\"\r\n",
    "        u\"\\U000024C2-\\U0001F251\"\r\n",
    "        u\"\\U0001f926-\\U0001f937\"\r\n",
    "        u\"\\U00010000-\\U0010ffff\"\r\n",
    "        u\"\\u2640-\\u2642\"\r\n",
    "        u\"\\u2600-\\u2B55\"\r\n",
    "        u\"\\u200d\"\r\n",
    "        u\"\\u23cf\"\r\n",
    "        u\"\\u23e9\"\r\n",
    "        u\"\\u231a\"\r\n",
    "        u\"\\ufe0f\"  # dingbats\r\n",
    "        u\"\\u3030\"\r\n",
    "        \r\n",
    "                           \"]+\", flags=re.UNICODE)\r\n",
    "\r\n",
    "        \r\n",
    "    data = data.map(lambda x: emoji_pattern.sub(r'', x))\r\n",
    "\r\n",
    "        \r\n",
    "    #Removing URLs with a regular expression\r\n",
    "    url_pattern = re.compile(r'https?://\\S+|www\\.\\S+')\r\n",
    "    data = data.map(lambda x: url_pattern.sub(r'', x))\r\n",
    "\r\n",
    "    # Remove Emails\r\n",
    "    data = data.map(lambda x: re.sub('\\S*@\\S*\\s?', '', x)) \r\n",
    "\r\n",
    "    # Remove new line characters\r\n",
    "    data = data.map(lambda x: re.sub('\\s+', ' ', x)) \r\n",
    "\r\n",
    "    # convert back to unicode\r\n",
    "    data = data.map(lambda x: unidecode.unidecode(x))\r\n",
    "\r\n",
    "    # Remove punctuation\r\n",
    "    data = data.map(lambda x: ''.join([c for c in x if c not in punctuation]))\r\n",
    "\r\n",
    "    # Remove distracting single quotes\r\n",
    "    data = data.map(lambda x: re.sub(\"\\'\", \"\", x)) \r\n",
    "\r\n",
    "        \r\n",
    "    return data"
   ],
   "outputs": [],
   "metadata": {}
  },
  {
   "cell_type": "code",
   "execution_count": 81,
   "source": [
    "df.iloc[4,:][0]"
   ],
   "outputs": [
    {
     "output_type": "execute_result",
     "data": {
      "text/plain": [
       "'I’m so lostHello, my name is Adam (16) and I’ve been struggling for years and I’m afraid. Through these past years thoughts of suicide, fear, anxiety I’m so close to my limit . I’ve been quiet for so long and I’m too scared to come out to my family about these feelings. About 3 years ago  losing my aunt triggered it all. Everyday feeling hopeless , lost, guilty, and remorseful over her and all the things I’ve done in my life,but thoughts like these with the little I’ve experienced in life? Only time I’ve revealed these feelings to my family is when I broke down where they saw my cuts. Watching them get so worried over something I portrayed as an average day made me feel absolutely dreadful. They later found out I was an attempt survivor from attempt OD(overdose from pills) and attempt hanging. All that happened was a blackout from the pills and I never went through with the noose because I’m still so afraid. During my first therapy I was diagnosed with severe depression, social anxiety, and a eating disorder.\\nI was later transferred to a fucken group therapy for some reason which made me feel more anxious. Eventually before my last session with a 1 on 1 therapy she showed me my results from a daily check up on my feelings(which was a 2 - step survey for me and my mom/dad )\\nCome to find out as I’ve been putting feeling horrible and afraid/anxious everyday , my mom has been doing I’ve been doing absolutely amazing with me described as “happiest she’s ever seen me, therapy has helped him” \\nI eventually was put on Sertaline (anti anxiety or anti depression I’m sorry I forgot) but I never finished my first prescription nor ever found the right type of anti depressant because my mom thought I only wanted the drugs so she took me off my recommended pill schedule after ~3 week and stopped me from taking them. All this time I’ve been feeling worse afraid of the damage/ worry I’ve caused them even more. \\nNow here with everything going on, I’m as afraid as I’ve ever been . I’ve relapsed on cutting and have developed severe insomnia . Day after day feeling more hopeless, worthless questioning why am I still here? What’s my motivation to move out of bed and keep going? I ask these to myself nearly every night almost having a break down everytime. \\nPlease Please Please someone.. anyone help me.\\nI’m so scared I might do something drastic, I’ve been shaped by fear and anxiety. Idk what to do anymore'"
      ]
     },
     "metadata": {},
     "execution_count": 81
    }
   ],
   "metadata": {}
  },
  {
   "cell_type": "code",
   "execution_count": null,
   "source": [],
   "outputs": [],
   "metadata": {}
  },
  {
   "cell_type": "code",
   "execution_count": null,
   "source": [],
   "outputs": [],
   "metadata": {}
  },
  {
   "cell_type": "code",
   "execution_count": null,
   "source": [],
   "outputs": [],
   "metadata": {}
  },
  {
   "cell_type": "code",
   "execution_count": null,
   "source": [],
   "outputs": [],
   "metadata": {}
  },
  {
   "cell_type": "code",
   "execution_count": null,
   "source": [],
   "outputs": [],
   "metadata": {}
  },
  {
   "cell_type": "code",
   "execution_count": null,
   "source": [],
   "outputs": [],
   "metadata": {}
  },
  {
   "cell_type": "code",
   "execution_count": null,
   "source": [],
   "outputs": [],
   "metadata": {}
  },
  {
   "cell_type": "code",
   "execution_count": 82,
   "source": [
    "df['text'] = depure_data(df['text'])"
   ],
   "outputs": [],
   "metadata": {}
  },
  {
   "cell_type": "code",
   "execution_count": 83,
   "source": [
    "df.iloc[4,:][0]"
   ],
   "outputs": [
    {
     "output_type": "execute_result",
     "data": {
      "text/plain": [
       "'Im so lostHello my name is Adam 16 and Ive been struggling for years and Im afraid Through these past years thoughts of suicide fear anxiety Im so close to my limit  Ive been quiet for so long and Im too scared to come out to my family about these feelings About 3 years ago losing my aunt triggered it all Everyday feeling hopeless  lost guilty and remorseful over her and all the things Ive done in my lifebut thoughts like these with the little Ive experienced in life Only time Ive revealed these feelings to my family is when I broke down where they saw my cuts Watching them get so worried over something I portrayed as an average day made me feel absolutely dreadful They later found out I was an attempt survivor from attempt ODoverdose from pills and attempt hanging All that happened was a blackout from the pills and I never went through with the noose because Im still so afraid During my first therapy I was diagnosed with severe depression social anxiety and a eating disorder I was later transferred to a fucken group therapy for some reason which made me feel more anxious Eventually before my last session with a 1 on 1 therapy she showed me my results from a daily check up on my feelingswhich was a 2  step survey for me and my momdad  Come to find out as Ive been putting feeling horrible and afraidanxious everyday  my mom has been doing Ive been doing absolutely amazing with me described as happiest shes ever seen me therapy has helped him I eventually was put on Sertaline anti anxiety or anti depression Im sorry I forgot but I never finished my first prescription nor ever found the right type of anti depressant because my mom thought I only wanted the drugs so she took me off my recommended pill schedule after 3 week and stopped me from taking them All this time Ive been feeling worse afraid of the damage worry Ive caused them even more Now here with everything going on Im as afraid as Ive ever been  Ive relapsed on cutting and have developed severe insomnia  Day after day feeling more hopeless worthless questioning why am I still here Whats my motivation to move out of bed and keep going I ask these to myself nearly every night almost having a break down everytime Please Please Please someone anyone help me Im so scared I might do something drastic Ive been shaped by fear and anxiety Idk what to do anymore'"
      ]
     },
     "metadata": {},
     "execution_count": 83
    }
   ],
   "metadata": {}
  },
  {
   "cell_type": "code",
   "execution_count": 84,
   "source": [
    "df['text']"
   ],
   "outputs": [
    {
     "output_type": "execute_result",
     "data": {
      "text/plain": [
       "0         Ex Wife Threatening SuicideRecently I left my ...\n",
       "1         Am I weird I dont get affected by compliments ...\n",
       "2         Finally 2020 is almost over So I can never hea...\n",
       "3                 i need helpjust help me im crying so hard\n",
       "4         Im so lostHello my name is Adam 16 and Ive bee...\n",
       "                                ...                        \n",
       "162976    why these 456 crores paid neerav modi not reco...\n",
       "162977    dear rss terrorist payal gawar what about modi...\n",
       "162978    did you cover her interaction forum where she ...\n",
       "162979    there big project came into india modi dream p...\n",
       "162980    have you ever listen about like gurukul where ...\n",
       "Name: text, Length: 477406, dtype: object"
      ]
     },
     "metadata": {},
     "execution_count": 84
    }
   ],
   "metadata": {}
  },
  {
   "cell_type": "code",
   "execution_count": 85,
   "source": [
    "text_in_list = df['text'].values.tolist()\r\n"
   ],
   "outputs": [],
   "metadata": {}
  },
  {
   "cell_type": "code",
   "execution_count": 86,
   "source": [
    "import wordninja\r\n"
   ],
   "outputs": [],
   "metadata": {}
  },
  {
   "cell_type": "code",
   "execution_count": 87,
   "source": [
    "df['text_split'] = df['text'].map(lambda x: wordninja.split(x))"
   ],
   "outputs": [],
   "metadata": {}
  },
  {
   "cell_type": "code",
   "execution_count": 88,
   "source": [
    "df['text_split']"
   ],
   "outputs": [
    {
     "output_type": "execute_result",
     "data": {
      "text/plain": [
       "0         [Ex, Wife, Threatening, Suicide, Recently, I, ...\n",
       "1         [Am, I, weird, I, dont, get, affected, by, com...\n",
       "2         [Finally, 2020, is, almost, over, So, I, can, ...\n",
       "3         [i, need, help, just, help, me, im, crying, so...\n",
       "4         [Im, so, lost, Hello, my, name, is, Adam, 16, ...\n",
       "                                ...                        \n",
       "162976    [why, these, 456, crores, paid, nee, rav, modi...\n",
       "162977    [dear, rss, terrorist, pay, al, gawar, what, a...\n",
       "162978    [did, you, cover, her, interaction, forum, whe...\n",
       "162979    [there, big, project, came, into, india, modi,...\n",
       "162980    [have, you, ever, listen, about, like, guru, k...\n",
       "Name: text_split, Length: 477406, dtype: object"
      ]
     },
     "metadata": {},
     "execution_count": 88
    }
   ],
   "metadata": {}
  },
  {
   "cell_type": "code",
   "execution_count": 89,
   "source": [
    "def detokenize(text):\r\n",
    "    return TreebankWordDetokenizer().detokenize(text)"
   ],
   "outputs": [],
   "metadata": {}
  },
  {
   "cell_type": "code",
   "execution_count": 91,
   "source": [
    "df['clean_text'] = df['text_split'].map(lambda x: detokenize(x))"
   ],
   "outputs": [],
   "metadata": {}
  },
  {
   "cell_type": "code",
   "execution_count": 92,
   "source": [
    "from keras.preprocessing.text import Tokenizer\r\n",
    "from keras.preprocessing.sequence import pad_sequences\r\n",
    "from keras import regularizers"
   ],
   "outputs": [],
   "metadata": {}
  },
  {
   "cell_type": "code",
   "execution_count": 170,
   "source": [],
   "outputs": [],
   "metadata": {}
  },
  {
   "cell_type": "code",
   "execution_count": 94,
   "source": [
    "import itertools\r\n",
    "merged = list(itertools.chain(*df['text_split'].values.tolist()))\r\n",
    "len(set(merged))\r\n"
   ],
   "outputs": [
    {
     "output_type": "execute_result",
     "data": {
      "text/plain": [
       "112543"
      ]
     },
     "metadata": {},
     "execution_count": 94
    }
   ],
   "metadata": {}
  },
  {
   "cell_type": "code",
   "execution_count": 95,
   "source": [
    "max_words = len(set(merged)) + 1\r\n",
    "max_len = 500"
   ],
   "outputs": [],
   "metadata": {}
  },
  {
   "cell_type": "code",
   "execution_count": 96,
   "source": [
    "max_words"
   ],
   "outputs": [
    {
     "output_type": "execute_result",
     "data": {
      "text/plain": [
       "112544"
      ]
     },
     "metadata": {},
     "execution_count": 96
    }
   ],
   "metadata": {}
  },
  {
   "cell_type": "code",
   "execution_count": 100,
   "source": [
    "df['class'].value_counts()"
   ],
   "outputs": [
    {
     "output_type": "execute_result",
     "data": {
      "text/plain": [
       "0    273497\n",
       "1    203909\n",
       "Name: class, dtype: int64"
      ]
     },
     "metadata": {},
     "execution_count": 100
    }
   ],
   "metadata": {}
  },
  {
   "cell_type": "markdown",
   "source": [
    "# Upsample imbalanced data"
   ],
   "metadata": {}
  },
  {
   "cell_type": "code",
   "execution_count": 97,
   "source": [
    "from sklearn.utils import resample\r\n",
    "from sklearn.utils import shuffle"
   ],
   "outputs": [],
   "metadata": {}
  },
  {
   "cell_type": "code",
   "execution_count": 98,
   "source": [
    "# Separate majority and minority classes\r\n",
    "data_majority = df[df['class'] == 0]\r\n",
    "data_minority = df[df['class'] == 1]\r\n",
    "\r\n",
    "bias = data_minority.shape[0]/data_majority.shape[0]\r\n",
    "# lets split train/test data first then \r\n",
    "train = pd.concat([data_majority.sample(frac=0.8,random_state=200),\r\n",
    "         data_minority.sample(frac=0.8,random_state=200)])\r\n",
    "test = pd.concat([data_majority.drop(data_majority.sample(frac=0.8,random_state=200).index),\r\n",
    "        data_minority.drop(data_minority.sample(frac=0.8,random_state=200).index)])\r\n",
    "\r\n",
    "train = shuffle(train)\r\n",
    "test = shuffle(test)"
   ],
   "outputs": [],
   "metadata": {}
  },
  {
   "cell_type": "code",
   "execution_count": 99,
   "source": [
    "# Separate majority and minority classes in training data for upsampling \r\n",
    "data_majority = train[train['class'] == 0]\r\n",
    "data_minority = train[train['class'] == 1]\r\n",
    "\r\n",
    "print(\"majority class before upsample:\",data_majority.shape)\r\n",
    "print(\"minority class before upsample:\",data_minority.shape)\r\n",
    "\r\n",
    "# Upsample minority class\r\n",
    "data_minority_upsampled = resample(data_minority, \r\n",
    "                                 replace=True,     # sample with replacement\r\n",
    "                                 n_samples= data_majority.shape[0],    # to match majority class\r\n",
    "                                 random_state=123) # reproducible results\r\n",
    " \r\n",
    "# Combine majority class with upsampled minority class\r\n",
    "data_upsampled = pd.concat([data_majority, data_minority_upsampled])\r\n",
    " \r\n",
    "# Display new class counts\r\n",
    "print(\"After upsampling\\n\",data_upsampled['class'].value_counts(),sep = \"\")\r\n",
    "\r\n",
    "\r\n",
    "tokenizer = Tokenizer(num_words=max_words, split=' ')\r\n",
    "tokenizer.fit_on_texts(df['clean_text'].values) # training with whole data\r\n",
    "\r\n",
    "X_train = tokenizer.texts_to_sequences(data_upsampled['clean_text'].values)\r\n",
    "X_train = pad_sequences(X_train,maxlen=max_len)\r\n",
    "Y_train = pd.get_dummies(data_upsampled['class']).values\r\n",
    "print('x_train shape:',X_train.shape)\r\n",
    "\r\n",
    "X_test = tokenizer.texts_to_sequences(test['clean_text'].values)\r\n",
    "X_test = pad_sequences(X_test,maxlen=max_len)\r\n",
    "Y_test = pd.get_dummies(test['class']).values\r\n",
    "print(\"x_test shape\", X_test.shape)"
   ],
   "outputs": [
    {
     "output_type": "stream",
     "name": "stdout",
     "text": [
      "majority class before upsample: (218798, 4)\n",
      "minority class before upsample: (163127, 4)\n",
      "After upsampling\n",
      "0    218798\n",
      "1    218798\n",
      "Name: class, dtype: int64\n",
      "x_train shape: (437596, 500)\n",
      "x_test shape (50008, 500)\n"
     ]
    }
   ],
   "metadata": {}
  },
  {
   "cell_type": "code",
   "execution_count": null,
   "source": [],
   "outputs": [],
   "metadata": {}
  },
  {
   "cell_type": "code",
   "execution_count": null,
   "source": [],
   "outputs": [],
   "metadata": {}
  },
  {
   "cell_type": "markdown",
   "source": [
    "# LSTM Model"
   ],
   "metadata": {}
  },
  {
   "cell_type": "code",
   "execution_count": 101,
   "source": [
    "import numpy as np"
   ],
   "outputs": [],
   "metadata": {}
  },
  {
   "cell_type": "code",
   "execution_count": 142,
   "source": [
    "from keras.models import Sequential\r\n",
    "from keras import layers\r\n",
    "from keras import regularizers\r\n",
    "from keras import backend as K\r\n",
    "from keras.callbacks import ModelCheckpoint\r\n",
    "from keras.layers import SpatialDropout1D\r\n",
    "import keras\r\n",
    "from keras.models import load_model"
   ],
   "outputs": [],
   "metadata": {}
  },
  {
   "cell_type": "code",
   "execution_count": 538,
   "source": [
    "model1 = Sequential()\r\n",
    "model1.add(layers.Embedding(max_words, 40)) #The embedding layer\r\n",
    "model1.add(SpatialDropout1D(0.4))\r\n",
    "model1.add(layers.LSTM(15,dropout=0.5, recurrent_dropout=0.5)) #Our LSTM layer\r\n",
    "model1.add(layers.Dense(2,activation='sigmoid'))"
   ],
   "outputs": [],
   "metadata": {}
  },
  {
   "cell_type": "code",
   "execution_count": 539,
   "source": [
    "model1.compile(optimizer='adam',loss='binary_crossentropy', metrics=['accuracy'])"
   ],
   "outputs": [],
   "metadata": {}
  },
  {
   "cell_type": "code",
   "execution_count": 540,
   "source": [
    "checkpoint1 = ModelCheckpoint(\"best_model1.hdf5\", monitor='val_accuracy', verbose=1,save_best_only=True, mode='auto', period=1,save_weights_only=False)"
   ],
   "outputs": [
    {
     "output_type": "stream",
     "name": "stdout",
     "text": [
      "WARNING:tensorflow:`period` argument is deprecated. Please use `save_freq` to specify the frequency in number of batches seen.\n"
     ]
    },
    {
     "output_type": "stream",
     "name": "stderr",
     "text": [
      "WARNING:tensorflow:`period` argument is deprecated. Please use `save_freq` to specify the frequency in number of batches seen.\n"
     ]
    }
   ],
   "metadata": {}
  },
  {
   "cell_type": "code",
   "execution_count": 5,
   "source": [
    "import tensorflow as tf\r\n",
    "from sklearn.model_selection import train_test_split"
   ],
   "outputs": [],
   "metadata": {}
  },
  {
   "cell_type": "code",
   "execution_count": null,
   "source": [],
   "outputs": [],
   "metadata": {}
  },
  {
   "cell_type": "code",
   "execution_count": null,
   "source": [],
   "outputs": [],
   "metadata": {}
  },
  {
   "cell_type": "code",
   "execution_count": 542,
   "source": [
    "history = model1.fit(X_train, Y_train, epochs=1,validation_data=(X_test, Y_test),callbacks=[checkpoint1])"
   ],
   "outputs": [
    {
     "output_type": "stream",
     "name": "stdout",
     "text": [
      "27002/27002 [==============================] - 4030s 149ms/step - loss: 0.2462 - accuracy: 0.8984 - val_loss: 0.1924 - val_accuracy: 0.9276\n",
      "\n",
      "Epoch 00001: val_accuracy improved from -inf to 0.92755, saving model to best_model1.hdf5\n"
     ]
    }
   ],
   "metadata": {}
  },
  {
   "cell_type": "code",
   "execution_count": 570,
   "source": [
    "sentiment = [\"Not Depressed\", \"Depressed\"]\r\n",
    "sequence = tokenizer.texts_to_sequences([\"I am feeling low since 2 days. is it depression\"])\r\n",
    "test = pad_sequences(sequence, maxlen=max_len)\r\n",
    "sentiment[np.around(model1.predict(test), decimals=0).argmax(axis=1)[0]]"
   ],
   "outputs": [
    {
     "output_type": "execute_result",
     "data": {
      "text/plain": [
       "'Depressed'"
      ]
     },
     "metadata": {},
     "execution_count": 570
    }
   ],
   "metadata": {}
  },
  {
   "cell_type": "code",
   "execution_count": 571,
   "source": [
    "model1.predict(test)"
   ],
   "outputs": [
    {
     "output_type": "execute_result",
     "data": {
      "text/plain": [
       "array([[0.00629434, 0.99332595]], dtype=float32)"
      ]
     },
     "metadata": {},
     "execution_count": 571
    }
   ],
   "metadata": {}
  },
  {
   "cell_type": "code",
   "execution_count": 94,
   "source": [
    "model1.save('model')"
   ],
   "outputs": [
    {
     "output_type": "stream",
     "name": "stderr",
     "text": [
      "WARNING:absl:Found untraced functions such as lstm_cell_layer_call_fn, lstm_cell_layer_call_and_return_conditional_losses, lstm_cell_layer_call_fn, lstm_cell_layer_call_and_return_conditional_losses, lstm_cell_layer_call_and_return_conditional_losses while saving (showing 5 of 5). These functions will not be directly callable after loading.\n"
     ]
    },
    {
     "output_type": "stream",
     "name": "stdout",
     "text": [
      "INFO:tensorflow:Assets written to: model\\assets\n"
     ]
    },
    {
     "output_type": "stream",
     "name": "stderr",
     "text": [
      "INFO:tensorflow:Assets written to: model\\assets\n"
     ]
    }
   ],
   "metadata": {}
  },
  {
   "cell_type": "code",
   "execution_count": null,
   "source": [],
   "outputs": [],
   "metadata": {}
  },
  {
   "cell_type": "code",
   "execution_count": null,
   "source": [],
   "outputs": [],
   "metadata": {}
  },
  {
   "cell_type": "markdown",
   "source": [
    "# Confusion Matrix"
   ],
   "metadata": {}
  },
  {
   "cell_type": "code",
   "execution_count": 547,
   "source": [
    "from sklearn.metrics import confusion_matrix\r\n",
    "import seaborn as sns\r\n",
    "import matplotlib.pyplot as plt\r\n",
    "matrix = confusion_matrix(np.around(Y_test, decimals=0).argmax(axis=1), np.around(model1.predict(X_test), decimals=0).argmax(axis=1))\r\n",
    "conf_matrix = pd.DataFrame(matrix, index = ['Not depressed','Depressed'],columns = ['Not depressed','Depressed'])\r\n",
    "#Normalizing\r\n",
    "conf_matrix = conf_matrix.astype('float') / conf_matrix.sum(axis=1)[:, np.newaxis]\r\n",
    "plt.figure(figsize = (15,15))\r\n",
    "sns.heatmap(conf_matrix, annot=True, annot_kws={\"size\": 15})"
   ],
   "outputs": [
    {
     "output_type": "stream",
     "name": "stderr",
     "text": [
      "C:\\Users\\SAIRAM~1\\AppData\\Local\\Temp/ipykernel_10144/3883251052.py:7: FutureWarning: Support for multi-dimensional indexing (e.g. `obj[:, None]`) is deprecated and will be removed in a future version.  Convert to a numpy array before indexing instead.\n",
      "  conf_matrix = conf_matrix.astype('float') / conf_matrix.sum(axis=1)[:, np.newaxis]\n"
     ]
    },
    {
     "output_type": "execute_result",
     "data": {
      "text/plain": [
       "<AxesSubplot:>"
      ]
     },
     "metadata": {},
     "execution_count": 547
    },
    {
     "output_type": "display_data",
     "data": {
      "image/png": "[encoded data removed]",
      "text/plain": [
       "<Figure size 1080x1080 with 2 Axes>"
      ]
     },
     "metadata": {
      "needs_background": "light"
     }
    }
   ],
   "metadata": {}
  },
  {
   "cell_type": "markdown",
   "source": [
    "95% of not depressed was predicted as not depressed. 92% of depressed was predicted as depressed"
   ],
   "metadata": {}
  },
  {
   "cell_type": "markdown",
   "source": [],
   "metadata": {}
  },
  {
   "cell_type": "markdown",
   "source": [
    "# Bi-directional LSTM"
   ],
   "metadata": {}
  },
  {
   "cell_type": "markdown",
   "source": [],
   "metadata": {}
  },
  {
   "cell_type": "code",
   "execution_count": 103,
   "source": [
    "model2 = Sequential()\r\n",
    "model2.add(layers.Embedding(max_words, 64, input_length=max_len))\r\n",
    "model2.add(SpatialDropout1D(0.4))\r\n",
    "model2.add(layers.Bidirectional(layers.LSTM(192,dropout=0.5, recurrent_dropout=0.5)))\r\n",
    "\r\n",
    "model2.add(layers.Dense(2,activation='sigmoid'))\r\n",
    "model2.compile(optimizer='adam',loss='binary_crossentropy', metrics=['accuracy'])\r\n",
    "\r\n"
   ],
   "outputs": [],
   "metadata": {}
  },
  {
   "cell_type": "code",
   "execution_count": 106,
   "source": [
    "earlyStopping = keras.callbacks.EarlyStopping(monitor='val_loss', min_delta=0, patience=3, verbose=0, mode='auto')"
   ],
   "outputs": [],
   "metadata": {}
  },
  {
   "cell_type": "code",
   "execution_count": 107,
   "source": [
    "model = load_model('model-bi-192')"
   ],
   "outputs": [],
   "metadata": {}
  },
  {
   "cell_type": "code",
   "execution_count": 109,
   "source": [
    "checkpoint2 = ModelCheckpoint(\"best_model3.hdf5\", monitor='val_accuracy', verbose=1,save_best_only=True, mode='auto', period=1,save_weights_only=False)\r\n"
   ],
   "outputs": [
    {
     "output_type": "stream",
     "name": "stdout",
     "text": [
      "WARNING:tensorflow:`period` argument is deprecated. Please use `save_freq` to specify the frequency in number of batches seen.\n"
     ]
    }
   ],
   "metadata": {}
  },
  {
   "cell_type": "code",
   "execution_count": 110,
   "source": [
    "\r\n",
    "history = model.fit(X_train, Y_train, epochs=5, batch_size= 500, validation_data=(X_test, Y_test),callbacks=[checkpoint2, earlyStopping])"
   ],
   "outputs": [
    {
     "output_type": "stream",
     "name": "stdout",
     "text": [
      "Epoch 1/5\n",
      "876/876 [==============================] - 12318s 14s/step - loss: 0.1208 - accuracy: 0.9564 - val_loss: 0.1676 - val_accuracy: 0.9404\n",
      "\n",
      "Epoch 00001: val_accuracy improved from -inf to 0.94045, saving model to best_model3.hdf5\n",
      "Epoch 2/5\n",
      "876/876 [==============================] - 13621s 16s/step - loss: 0.1064 - accuracy: 0.9617 - val_loss: 0.1738 - val_accuracy: 0.9406\n",
      "\n",
      "Epoch 00002: val_accuracy improved from 0.94045 to 0.94057, saving model to best_model3.hdf5\n",
      "Epoch 3/5\n",
      "876/876 [==============================] - 14154s 16s/step - loss: 0.0974 - accuracy: 0.9650 - val_loss: 0.1664 - val_accuracy: 0.9426\n",
      "\n",
      "Epoch 00003: val_accuracy improved from 0.94057 to 0.94261, saving model to best_model3.hdf5\n",
      "Epoch 4/5\n",
      "876/876 [==============================] - 14355s 16s/step - loss: 0.0888 - accuracy: 0.9683 - val_loss: 0.1754 - val_accuracy: 0.9429\n",
      "\n",
      "Epoch 00004: val_accuracy improved from 0.94261 to 0.94293, saving model to best_model3.hdf5\n",
      "Epoch 5/5\n",
      "876/876 [==============================] - 14208s 16s/step - loss: 0.0823 - accuracy: 0.9709 - val_loss: 0.1739 - val_accuracy: 0.9415\n",
      "\n",
      "Epoch 00005: val_accuracy did not improve from 0.94293\n"
     ]
    }
   ],
   "metadata": {}
  },
  {
   "cell_type": "markdown",
   "source": [
    "# Confusion matrix\r\n"
   ],
   "metadata": {}
  },
  {
   "cell_type": "code",
   "execution_count": 111,
   "source": [
    "from sklearn.metrics import confusion_matrix\r\n",
    "import seaborn as sns\r\n",
    "import matplotlib.pyplot as plt\r\n",
    "matrix = confusion_matrix(np.around(Y_test, decimals=0).argmax(axis=1), np.around(model.predict(X_test), decimals=0).argmax(axis=1))\r\n",
    "conf_matrix = pd.DataFrame(matrix, index = ['0','1'],columns = ['0','1'])\r\n",
    "#Normalizing\r\n",
    "conf_matrix = conf_matrix.astype('float') / conf_matrix.sum(axis=1)[:, np.newaxis]\r\n",
    "plt.figure(figsize = (15,15))\r\n",
    "sns.heatmap(conf_matrix, annot=True, annot_kws={\"size\": 15})"
   ],
   "outputs": [
    {
     "output_type": "stream",
     "name": "stderr",
     "text": [
      "C:\\Users\\SAIRAM~1\\AppData\\Local\\Temp/ipykernel_85928/2431787229.py:7: FutureWarning: Support for multi-dimensional indexing (e.g. `obj[:, None]`) is deprecated and will be removed in a future version.  Convert to a numpy array before indexing instead.\n",
      "  conf_matrix = conf_matrix.astype('float') / conf_matrix.sum(axis=1)[:, np.newaxis]\n"
     ]
    },
    {
     "output_type": "execute_result",
     "data": {
      "text/plain": [
       "<AxesSubplot:>"
      ]
     },
     "metadata": {},
     "execution_count": 111
    },
    {
     "output_type": "display_data",
     "data": {
      "image/png": "[encoded data removed]",
      "text/plain": [
       "<Figure size 1080x1080 with 2 Axes>"
      ]
     },
     "metadata": {
      "needs_background": "light"
     }
    }
   ],
   "metadata": {}
  },
  {
   "cell_type": "code",
   "execution_count": 227,
   "source": [
    "\r\n",
    "TP = conf_matrix['1']['1']\r\n",
    "\r\n",
    "TN = conf_matrix['0']['0']\r\n",
    "\r\n",
    "FN = conf_matrix['0']['1']\r\n",
    "\r\n",
    "FP = conf_matrix['1']['0']\r\n",
    "\r\n",
    "recall = TP / (TP + FP)\r\n",
    "precision = TP / (TP + FN)\r\n",
    "\r\n",
    "f1_score = 2 / ((1/recall) + (1/precision))\r\n",
    "\r\n",
    "accuracy = (TP + TN)/(TP + TN + FP + FN)\r\n",
    "\r\n",
    "f1_score\r\n",
    "\r\n"
   ],
   "outputs": [
    {
     "output_type": "execute_result",
     "data": {
      "text/plain": [
       "0.9408733576208175"
      ]
     },
     "metadata": {},
     "execution_count": 227
    }
   ],
   "metadata": {}
  },
  {
   "cell_type": "code",
   "execution_count": null,
   "source": [
    "# model2.save('model-bi')"
   ],
   "outputs": [],
   "metadata": {}
  },
  {
   "cell_type": "code",
   "execution_count": 113,
   "source": [
    "model.save('model-bi-new.h5')"
   ],
   "outputs": [],
   "metadata": {}
  },
  {
   "cell_type": "code",
   "execution_count": 114,
   "source": [
    "m = load_model('model-bi-new.h5')"
   ],
   "outputs": [],
   "metadata": {}
  },
  {
   "cell_type": "code",
   "execution_count": 325,
   "source": [
    "sentiment[np.around(m.predict(test), decimals=0).argmax(axis=1)[0]]"
   ],
   "outputs": [
    {
     "output_type": "execute_result",
     "data": {
      "text/plain": [
       "'Depressed'"
      ]
     },
     "metadata": {},
     "execution_count": 325
    }
   ],
   "metadata": {}
  },
  {
   "cell_type": "code",
   "execution_count": 334,
   "source": [
    "sentiment = [\"Not Depressed\", \"Depressed\"]\r\n",
    "user_input = \"I want to die\"\r\n",
    "\r\n",
    "sequence = tokenizer.texts_to_sequences([user_input])\r\n",
    "test = pad_sequences(sequence, maxlen=max_len)\r\n",
    "sentiment[np.around(model.predict(test), decimals=0).argmax(axis=1)[0]]"
   ],
   "outputs": [
    {
     "output_type": "execute_result",
     "data": {
      "text/plain": [
       "'Depressed'"
      ]
     },
     "metadata": {},
     "execution_count": 334
    }
   ],
   "metadata": {}
  },
  {
   "cell_type": "code",
   "execution_count": 335,
   "source": [
    "(m.predict(test))"
   ],
   "outputs": [
    {
     "output_type": "execute_result",
     "data": {
      "text/plain": [
       "array([[0.03054568, 0.96835876]], dtype=float32)"
      ]
     },
     "metadata": {},
     "execution_count": 335
    }
   ],
   "metadata": {}
  },
  {
   "cell_type": "code",
   "execution_count": 348,
   "source": [],
   "outputs": [],
   "metadata": {}
  },
  {
   "cell_type": "code",
   "execution_count": null,
   "source": [],
   "outputs": [],
   "metadata": {}
  },
  {
   "cell_type": "markdown",
   "source": [
    "# Save tokenizer"
   ],
   "metadata": {}
  },
  {
   "cell_type": "code",
   "execution_count": 339,
   "source": [
    "import json, io"
   ],
   "outputs": [],
   "metadata": {}
  },
  {
   "cell_type": "code",
   "execution_count": 340,
   "source": [
    "tokenizer_json = tokenizer.to_json()\r\n",
    "with io.open('tokenizer.json', 'w', encoding='utf-8') as f:\r\n",
    "    f.write(json.dumps(tokenizer_json, ensure_ascii=False))"
   ],
   "outputs": [],
   "metadata": {}
  },
  {
   "cell_type": "code",
   "execution_count": null,
   "source": [],
   "outputs": [],
   "metadata": {}
  },
  {
   "cell_type": "code",
   "execution_count": null,
   "source": [],
   "outputs": [],
   "metadata": {}
  },
  {
   "cell_type": "code",
   "execution_count": null,
   "source": [],
   "outputs": [],
   "metadata": {}
  }
 ],
 "metadata": {
  "orig_nbformat": 4,
  "language_info": {
   "name": "python",
   "version": "3.9.7",
   "mimetype": "text/x-python",
   "codemirror_mode": {
    "name": "ipython",
    "version": 3
   },
   "pygments_lexer": "ipython3",
   "nbconvert_exporter": "python",
   "file_extension": ".py"
  },
  "kernelspec": {
   "name": "python3",
   "display_name": "Python 3.9.7 64-bit (windows store)"
  },
  "interpreter": {
   "hash": "c1b8d82e34adef76ba63f034fc353337858649e0f4b7540869a7160522614281"
  }
 },
 "nbformat": 4,
 "nbformat_minor": 2
}