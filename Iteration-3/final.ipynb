{
 "cells": [
  {
   "cell_type": "code",
   "execution_count": 1,
   "source": [
    "import pandas as pd"
   ],
   "outputs": [],
   "metadata": {}
  },
  {
   "cell_type": "code",
   "execution_count": 40,
   "source": [
    "df = pd.read_csv('Suicide_Detection.csv', encoding = \"utf-8\")"
   ],
   "outputs": [],
   "metadata": {}
  },
  {
   "cell_type": "code",
   "execution_count": 41,
   "source": [
    "df['class'] = df['class'].replace(\"suicide\", 1)\r\n",
    "df['class'] = df['class'].replace('non-suicide', 0)\r\n",
    "\r\n",
    "df"
   ],
   "outputs": [
    {
     "output_type": "execute_result",
     "data": {
      "text/html": [
       "<div>\n",
       "<style scoped>\n",
       "    .dataframe tbody tr th:only-of-type {\n",
       "        vertical-align: middle;\n",
       "    }\n",
       "\n",
       "    .dataframe tbody tr th {\n",
       "        vertical-align: top;\n",
       "    }\n",
       "\n",
       "    .dataframe thead th {\n",
       "        text-align: right;\n",
       "    }\n",
       "</style>\n",
       "<table border=\"1\" class=\"dataframe\">\n",
       "  <thead>\n",
       "    <tr style=\"text-align: right;\">\n",
       "      <th></th>\n",
       "      <th>Unnamed: 0</th>\n",
       "      <th>text</th>\n",
       "      <th>class</th>\n",
       "    </tr>\n",
       "  </thead>\n",
       "  <tbody>\n",
       "    <tr>\n",
       "      <th>0</th>\n",
       "      <td>2</td>\n",
       "      <td>Ex Wife Threatening SuicideRecently I left my ...</td>\n",
       "      <td>1</td>\n",
       "    </tr>\n",
       "    <tr>\n",
       "      <th>1</th>\n",
       "      <td>3</td>\n",
       "      <td>Am I weird I don't get affected by compliments...</td>\n",
       "      <td>0</td>\n",
       "    </tr>\n",
       "    <tr>\n",
       "      <th>2</th>\n",
       "      <td>4</td>\n",
       "      <td>Finally 2020 is almost over... So I can never ...</td>\n",
       "      <td>0</td>\n",
       "    </tr>\n",
       "    <tr>\n",
       "      <th>3</th>\n",
       "      <td>8</td>\n",
       "      <td>i need helpjust help me im crying so hard</td>\n",
       "      <td>1</td>\n",
       "    </tr>\n",
       "    <tr>\n",
       "      <th>4</th>\n",
       "      <td>9</td>\n",
       "      <td>I’m so lostHello, my name is Adam (16) and I’v...</td>\n",
       "      <td>1</td>\n",
       "    </tr>\n",
       "    <tr>\n",
       "      <th>...</th>\n",
       "      <td>...</td>\n",
       "      <td>...</td>\n",
       "      <td>...</td>\n",
       "    </tr>\n",
       "    <tr>\n",
       "      <th>232069</th>\n",
       "      <td>348103</td>\n",
       "      <td>If you don't like rock then your not going to ...</td>\n",
       "      <td>0</td>\n",
       "    </tr>\n",
       "    <tr>\n",
       "      <th>232070</th>\n",
       "      <td>348106</td>\n",
       "      <td>You how you can tell i have so many friends an...</td>\n",
       "      <td>0</td>\n",
       "    </tr>\n",
       "    <tr>\n",
       "      <th>232071</th>\n",
       "      <td>348107</td>\n",
       "      <td>pee probably tastes like salty tea😏💦‼️ can som...</td>\n",
       "      <td>0</td>\n",
       "    </tr>\n",
       "    <tr>\n",
       "      <th>232072</th>\n",
       "      <td>348108</td>\n",
       "      <td>The usual stuff you find hereI'm not posting t...</td>\n",
       "      <td>1</td>\n",
       "    </tr>\n",
       "    <tr>\n",
       "      <th>232073</th>\n",
       "      <td>348110</td>\n",
       "      <td>I still haven't beaten the first boss in Hollo...</td>\n",
       "      <td>0</td>\n",
       "    </tr>\n",
       "  </tbody>\n",
       "</table>\n",
       "<p>232074 rows × 3 columns</p>\n",
       "</div>"
      ],
      "text/plain": [
       "        Unnamed: 0                                               text  class\n",
       "0                2  Ex Wife Threatening SuicideRecently I left my ...      1\n",
       "1                3  Am I weird I don't get affected by compliments...      0\n",
       "2                4  Finally 2020 is almost over... So I can never ...      0\n",
       "3                8          i need helpjust help me im crying so hard      1\n",
       "4                9  I’m so lostHello, my name is Adam (16) and I’v...      1\n",
       "...            ...                                                ...    ...\n",
       "232069      348103  If you don't like rock then your not going to ...      0\n",
       "232070      348106  You how you can tell i have so many friends an...      0\n",
       "232071      348107  pee probably tastes like salty tea😏💦‼️ can som...      0\n",
       "232072      348108  The usual stuff you find hereI'm not posting t...      1\n",
       "232073      348110  I still haven't beaten the first boss in Hollo...      0\n",
       "\n",
       "[232074 rows x 3 columns]"
      ]
     },
     "metadata": {},
     "execution_count": 41
    }
   ],
   "metadata": {}
  },
  {
   "cell_type": "code",
   "execution_count": 42,
   "source": [
    "import re\r\n",
    "from string import punctuation\r\n"
   ],
   "outputs": [],
   "metadata": {}
  },
  {
   "cell_type": "code",
   "execution_count": 58,
   "source": [
    "def depure_data(data):\r\n",
    "\r\n",
    "    #Removing emojis, symbols, maps, flags etc\r\n",
    "    emoji_pattern = re.compile(\"[\"\r\n",
    "        u\"\\U0001F600-\\U0001F64F\"  # emoticons\r\n",
    "        u\"\\U0001F300-\\U0001F5FF\"  # symbols & pictographs\r\n",
    "        u\"\\U0001F680-\\U0001F6FF\"  # transport & map symbols\r\n",
    "        u\"\\U0001F1E0-\\U0001F1FF\"  # flags (iOS)\r\n",
    "        u\"\\U00002500-\\U00002BEF\"  # chinese char\r\n",
    "        u\"\\U00002702-\\U000027B0\"\r\n",
    "        u\"\\U00002702-\\U000027B0\"\r\n",
    "        u\"\\U000024C2-\\U0001F251\"\r\n",
    "        u\"\\U0001f926-\\U0001f937\"\r\n",
    "        u\"\\U00010000-\\U0010ffff\"\r\n",
    "        u\"\\u2640-\\u2642\"\r\n",
    "        u\"\\u2600-\\u2B55\"\r\n",
    "        u\"\\u200d\"\r\n",
    "        u\"\\u23cf\"\r\n",
    "        u\"\\u23e9\"\r\n",
    "        u\"\\u231a\"\r\n",
    "        u\"\\ufe0f\"  # dingbats\r\n",
    "        u\"\\u3030\"\r\n",
    "                           \"]+\", flags=re.UNICODE)\r\n",
    "    \r\n",
    "    data = data.map(lambda x: emoji_pattern.sub(r'', x))\r\n",
    "    \r\n",
    "    #Removing URLs with a regular expression\r\n",
    "    url_pattern = re.compile(r'https?://\\S+|www\\.\\S+')\r\n",
    "    data = data.map(lambda x: url_pattern.sub(r'', x))\r\n",
    "\r\n",
    "    # Remove Emails\r\n",
    "    data = data.map(lambda x: re.sub('\\S*@\\S*\\s?', '', x)) \r\n",
    "\r\n",
    "    # Remove new line characters\r\n",
    "    data = data.map(lambda x: re.sub('\\s+', ' ', x)) \r\n",
    "\r\n",
    "    data = data.map(lambda x: ''.join([c for c in x if c not in punctuation]))\r\n",
    "\r\n",
    "    # Remove distracting single quotes\r\n",
    "    data = data.map(lambda x: re.sub(\"\\'\", \"\", x)) \r\n",
    "        \r\n",
    "    return data"
   ],
   "outputs": [],
   "metadata": {}
  },
  {
   "cell_type": "code",
   "execution_count": 60,
   "source": [
    "df['text'] = depure_data(df['text'])"
   ],
   "outputs": [],
   "metadata": {}
  },
  {
   "cell_type": "code",
   "execution_count": 61,
   "source": [
    "df.to_csv(\"example.csv\")"
   ],
   "outputs": [],
   "metadata": {}
  },
  {
   "cell_type": "code",
   "execution_count": null,
   "source": [],
   "outputs": [],
   "metadata": {}
  }
 ],
 "metadata": {
  "orig_nbformat": 4,
  "language_info": {
   "name": "python",
   "version": "3.9.7",
   "mimetype": "text/x-python",
   "codemirror_mode": {
    "name": "ipython",
    "version": 3
   },
   "pygments_lexer": "ipython3",
   "nbconvert_exporter": "python",
   "file_extension": ".py"
  },
  "kernelspec": {
   "name": "python3",
   "display_name": "Python 3.9.7 64-bit (windows store)"
  },
  "interpreter": {
   "hash": "c1b8d82e34adef76ba63f034fc353337858649e0f4b7540869a7160522614281"
  }
 },
 "nbformat": 4,
 "nbformat_minor": 2
}